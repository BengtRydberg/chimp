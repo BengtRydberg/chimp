{
 "cells": [
  {
   "cell_type": "markdown",
   "id": "6553b1ad",
   "metadata": {},
   "source": [
    "# Assessing data merging techniques\n",
    "\n",
    "The CIMR retrieval is supposed to combine observations from different sensors. The underlying network must therefore be able to merge the branches that process the inputs. This notebooks explores different approaches for doing this."
   ]
  },
  {
   "cell_type": "code",
   "execution_count": null,
   "id": "629a9b7e",
   "metadata": {},
   "outputs": [],
   "source": [
    "%load_ext autoreload\n",
    "%autoreload 2\n",
    "import numpy as np\n",
    "import matplotlib.pyplot as plt"
   ]
  },
  {
   "cell_type": "markdown",
   "id": "0d82f6e0",
   "metadata": {},
   "source": [
    "We use a synthetic data set to test the ability of different NNs to merge information from different sources. The retrieval inputs are random fields whose spatial variability is limited to wavelengths from separate spectral bands. The retrieval output is simply the sum of these inputs. In addition to that, the input for each sensor is corrupted with random noise."
   ]
  },
  {
   "cell_type": "code",
   "execution_count": null,
   "id": "eaec9456",
   "metadata": {},
   "outputs": [],
   "source": [
    "from cimr.data.training_data import SuperpositionDataset\n",
    "from cimr.data.training_data import StreamData, sparse_collate\n",
    "from torch.utils.data import DataLoader\n",
    "training_data = SuperpositionDataset(size=128, n_samples=1000, availability=[0.1, 1.0, 0.1], n_steps=8)\n",
    "training_loader = DataLoader(\n",
    "    training_data,\n",
    "    num_workers=8,\n",
    "    batch_size=2,\n",
    "    shuffle=True,\n",
    "    worker_init_fn=training_data.init_rng,\n",
    ")\n",
    "\n",
    "validation_data = SuperpositionDataset(size=128, n_samples=100, availability=1.0, n_steps=8)\n",
    "validation_loader = DataLoader(\n",
    "    validation_data,\n",
    "    num_workers=8,\n",
    "    batch_size=4,\n",
    "    shuffle=True,\n",
    "    worker_init_fn=validation_data.init_rng,\n",
    ")"
   ]
  },
  {
   "cell_type": "code",
   "execution_count": null,
   "id": "75552fee",
   "metadata": {
    "scrolled": true
   },
   "outputs": [],
   "source": [
    "x, y = validation_data[0]"
   ]
  },
  {
   "cell_type": "code",
   "execution_count": null,
   "id": "e4debf5e",
   "metadata": {},
   "outputs": [],
   "source": [
    "from IPython.display import HTML\n",
    "ani = validation_data.plot_sample(x, y)\n",
    "HTML(ani.to_jshtml())"
   ]
  },
  {
   "cell_type": "code",
   "execution_count": null,
   "id": "465afc32",
   "metadata": {},
   "outputs": [],
   "source": [
    "from cimr.data.training_data import SuperpositionDataset\n",
    "from cimr.data.training_data import StreamData, sparse_collate\n",
    "from cimr.models import CIMRNaive\n",
    "import pytorch_lightning as pl\n",
    "from torch.utils.data import DataLoader\n",
    "from torch import optim\n",
    "from quantnn.qrnn import QRNN\n",
    "from quantnn import metrics\n",
    "    \n",
    "def run_training(availability, aggregation):\n",
    "    name = f\"Aggregation: {aggregation}, availability: {availability}\"\n",
    "    if availability.lower() == \"full\":\n",
    "        availability = [1.0, 1.0, 1.0]\n",
    "    else:\n",
    "        availability = [0.1, 1.0, 0.1]\n",
    "        \n",
    "    training_data = SuperpositionDataset(\n",
    "        size=128,\n",
    "        n_samples=1000,\n",
    "        availability=availability,\n",
    "        n_steps=1\n",
    "    )\n",
    "    training_loader = DataLoader(\n",
    "        training_data,\n",
    "        num_workers=8,\n",
    "        batch_size=2,\n",
    "        shuffle=True,\n",
    "        worker_init_fn=training_data.init_rng,\n",
    "    )\n",
    "    validation_data = SuperpositionDataset(\n",
    "        size=128,\n",
    "        n_samples=100,\n",
    "        availability=1.0,\n",
    "        n_steps=1\n",
    "    )\n",
    "    validation_loader = DataLoader(\n",
    "        validation_data,\n",
    "        num_workers=8,\n",
    "        batch_size=4,\n",
    "        shuffle=True,\n",
    "        worker_init_fn=validation_data.init_rng,\n",
    "    )\n",
    "\n",
    "    aggregation = \"average\"\n",
    "    model = CIMRNaive(4, 2, aggregation=aggregation, block_type=\"convnext\")\n",
    "    quantiles = np.linspace(0, 1, 66)[1:-1]\n",
    "    qrnn = QRNN(model=model, quantiles=quantiles )\n",
    "\n",
    "\n",
    "    mtrx = [\n",
    "        metrics.Bias(),\n",
    "        metrics.Correlation(),\n",
    "        metrics.MeanSquaredError(),\n",
    "        metrics.ScatterPlot(),\n",
    "        metrics.CalibrationPlot()\n",
    "    ]\n",
    "\n",
    "    lm = qrnn.lightning(mask=-100, metrics=mtrx, name=name)\n",
    "    optimizer = optim.Adam(model.parameters(), lr=0.0005)\n",
    "    scheduler = optim.lr_scheduler.CosineAnnealingLR(optimizer, T_max=5)\n",
    "    lm.optimizer = optimizer\n",
    "    lm.scheduler = scheduler\n",
    "\n",
    "    trainer = pl.Trainer(\n",
    "        max_epochs=5,\n",
    "        accelerator=\"gpu\",\n",
    "        devices=-1,\n",
    "        precision=32,\n",
    "        gradient_clip_val=1,\n",
    "        logger=lm.tensorboard,\n",
    "        replace_sampler_ddp=True,    \n",
    "    )\n",
    "    trainer.fit(\n",
    "        model=lm,\n",
    "        train_dataloaders=training_loader,\n",
    "        val_dataloaders=validation_loader\n",
    "    )"
   ]
  },
  {
   "cell_type": "code",
   "execution_count": null,
   "id": "2aa347b5",
   "metadata": {},
   "outputs": [],
   "source": [
    "\n",
    "run_training(\"full\", \"linear\")"
   ]
  }
 ],
 "metadata": {
  "kernelspec": {
   "display_name": "Python 3 (ipykernel)",
   "language": "python",
   "name": "python3"
  },
  "language_info": {
   "codemirror_mode": {
    "name": "ipython",
    "version": 3
   },
   "file_extension": ".py",
   "mimetype": "text/x-python",
   "name": "python",
   "nbconvert_exporter": "python",
   "pygments_lexer": "ipython3",
   "version": "3.8.13"
  }
 },
 "nbformat": 4,
 "nbformat_minor": 5
}
